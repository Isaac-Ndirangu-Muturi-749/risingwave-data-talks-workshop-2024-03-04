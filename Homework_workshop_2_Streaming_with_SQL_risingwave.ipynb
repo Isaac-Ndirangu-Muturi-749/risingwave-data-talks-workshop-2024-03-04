{
 "cells": [
  {
   "cell_type": "markdown",
   "id": "38ad7daf-babf-446c-9725-781e640d5703",
   "metadata": {},
   "source": [
    "# Homework\n",
    "\n",
    "## Setting up\n",
    "\n",
    "In order to get a static set of results, we will use historical data from the dataset.\n",
    "\n",
    "Run the following commands:\n",
    "```bash\n",
    "# Load the cluster op commands.\n",
    "source commands.sh\n",
    "# First, reset the cluster:\n",
    "clean-cluster\n",
    "# Start a new cluster\n",
    "start-cluster\n",
    "# wait for cluster to start\n",
    "sleep 5\n",
    "# Seed historical data instead of real-time data\n",
    "seed-kafka\n",
    "# Recreate trip data table\n",
    "psql -f risingwave-sql/table/trip_data.sql\n",
    "# Wait for a while for the trip_data table to be populated.\n",
    "sleep 5\n",
    "# Check that you have 100K records in the trip_data table\n",
    "# You may rerun it if the count is not 100K\n",
    "psql -c \"SELECT COUNT(*) FROM trip_data\"\n",
    "```\n"
   ]
  },
  {
   "cell_type": "markdown",
   "id": "dd8b8307-2b7b-4a1e-8813-9ef9c66d11ae",
   "metadata": {},
   "source": [
    "## Question 0\n",
    "\n",
    "_This question is just a warm-up to introduce dynamic filter, please attempt it before viewing its solution._\n",
    "\n",
    "What are the dropoff taxi zones at the latest dropoff times?\n",
    "\n",
    "For this part, we will use the [dynamic filter pattern](https://docs.risingwave.com/docs/current/sql-pattern-dynamic-filters/).\n",
    "\n",
    "<details>\n",
    "<summary>Solution</summary>\n",
    "\n",
    "```sql\n",
    "CREATE MATERIALIZED VIEW latest_dropoff_time AS\n",
    "    WITH t AS (\n",
    "        SELECT MAX(tpep_dropoff_datetime) AS latest_dropoff_time\n",
    "        FROM trip_data\n",
    "    )\n",
    "    SELECT taxi_zone.Zone as taxi_zone, latest_dropoff_time\n",
    "    FROM t,\n",
    "            trip_data\n",
    "    JOIN taxi_zone\n",
    "        ON trip_data.DOLocationID = taxi_zone.location_id\n",
    "    WHERE trip_data.tpep_dropoff_datetime = t.latest_dropoff_time;\n",
    "\n",
    "--    taxi_zone    | latest_dropoff_time\n",
    "-- ----------------+---------------------\n",
    "--  Midtown Center | 2022-01-03 17:24:54\n",
    "-- (1 row)\n",
    "```\n",
    "\n",
    "</details>\n",
    "\n"
   ]
  },
  {
   "cell_type": "code",
   "execution_count": null,
   "id": "ab35532f-75a0-4391-973a-4e99d5b6fde4",
   "metadata": {},
   "outputs": [],
   "source": [
    "CREATE MATERIALIZED VIEW latest_dropoff_time AS\n",
    "    WITH t AS (\n",
    "        SELECT MAX(tpep_dropoff_datetime) AS latest_dropoff_time\n",
    "        FROM trip_data\n",
    "    )\n",
    "    SELECT taxi_zone.Zone as taxi_zone, latest_dropoff_time\n",
    "    FROM t,\n",
    "            trip_data\n",
    "    JOIN taxi_zone\n",
    "        ON trip_data.DOLocationID = taxi_zone.location_id\n",
    "    WHERE trip_data.tpep_dropoff_datetime = t.latest_dropoff_time;\n",
    "\n",
    "--    taxi_zone    | latest_dropoff_time\n",
    "-- ----------------+---------------------\n",
    "--  Midtown Center | 2022-01-03 17:24:54\n",
    "-- (1 row)"
   ]
  },
  {
   "cell_type": "code",
   "execution_count": 3,
   "id": "d163f35b-4673-4fee-b4da-4b23edc08139",
   "metadata": {},
   "outputs": [
    {
     "name": "stdout",
     "output_type": "stream",
     "text": [
      "CREATE_MATERIALIZED_VIEW\n"
     ]
    }
   ],
   "source": [
    "import os\n",
    "\n",
    "# Set the temporary directory explicitly\n",
    "os.environ['TMPDIR'] = '/tmp'\n",
    "\n",
    "# Define the SQL query\n",
    "latest_dropoff_query = \"\"\"\n",
    "CREATE MATERIALIZED VIEW latest_dropoff_time AS\n",
    "WITH t AS (\n",
    "    SELECT MAX(tpep_dropoff_datetime) AS latest_dropoff_time\n",
    "    FROM trip_data\n",
    ")\n",
    "SELECT taxi_zone.Zone as taxi_zone, latest_dropoff_time\n",
    "FROM t,\n",
    "        trip_data\n",
    "JOIN taxi_zone\n",
    "    ON trip_data.DOLocationID = taxi_zone.location_id\n",
    "WHERE trip_data.tpep_dropoff_datetime = t.latest_dropoff_time;\n",
    "\"\"\"\n",
    "\n",
    "# Execute the PostgreSQL command\n",
    "!psql -c \"{latest_dropoff_query}\"\n"
   ]
  },
  {
   "cell_type": "code",
   "execution_count": null,
   "id": "aae0832f-8905-42fa-a6f1-4f07b63f800d",
   "metadata": {},
   "outputs": [],
   "source": []
  },
  {
   "cell_type": "markdown",
   "id": "a9ae3ed2-7450-40bc-861c-46d90afc3d34",
   "metadata": {},
   "source": [
    "## Question 1\n",
    "\n",
    "Create a materialized view to compute the average, min and max trip time **between each taxi zone**.\n",
    "\n",
    "Note that we consider the do not consider `a->b` and `b->a` as the same trip pair.\n",
    "So as an example, you would consider the following trip pairs as different pairs:\n",
    "```plaintext\n",
    "Yorkville East -> Steinway\n",
    "Steinway -> Yorkville East\n",
    "```\n",
    "\n",
    "From this MV, find the pair of taxi zones with the highest average trip time.\n",
    "You may need to use the [dynamic filter pattern](https://docs.risingwave.com/docs/current/sql-pattern-dynamic-filters/) for this.\n",
    "\n",
    "Bonus (no marks): Create an MV which can identify anomalies in the data. For example, if the average trip time between two zones is 1 minute,\n",
    "but the max trip time is 10 minutes and 20 minutes respectively.\n",
    "\n",
    "Options:\n",
    "1. Yorkville East, Steinway\n",
    "2. Murray Hill, Midwood\n",
    "3. East Flatbush/Farragut, East Harlem North\n",
    "4. Midtown Center, University Heights/Morris Heights\n",
    "\n",
    "p.s. The trip time between taxi zones does not take symmetricity into account, i.e. `A -> B` and `B -> A` are considered different trips. This applies to subsequent questions as well.\n",
    "\n"
   ]
  },
  {
   "cell_type": "code",
   "execution_count": null,
   "id": "310b2ba7-c839-494c-87ad-eea451c4fe18",
   "metadata": {},
   "outputs": [],
   "source": []
  },
  {
   "cell_type": "markdown",
   "id": "2b4d5e38-0eb9-4c30-b1ec-8fdc7a35dfe2",
   "metadata": {},
   "source": [
    "## Question 2\n",
    "\n",
    "Recreate the MV(s) in question 1, to also find the **number of trips** for the pair of taxi zones with the highest average trip time.\n",
    "\n",
    "Options:\n",
    "1. 5\n",
    "2. 3\n",
    "3. 10\n",
    "4. 1\n",
    "\n"
   ]
  },
  {
   "cell_type": "code",
   "execution_count": null,
   "id": "5f3f7e03-b83e-46bb-a395-30411143f7fe",
   "metadata": {},
   "outputs": [],
   "source": []
  },
  {
   "cell_type": "markdown",
   "id": "094591ed-e486-46f0-bff4-074c79ce67c9",
   "metadata": {},
   "source": [
    "## Question 3\n",
    "\n",
    "From the latest pickup time to 17 hours before, what are the top 3 busiest zones in terms of number of pickups?\n",
    "For example if the latest pickup time is 2020-01-01 17:00:00,\n",
    "then the query should return the top 3 busiest zones from 2020-01-01 00:00:00 to 2020-01-01 17:00:00.\n",
    "\n",
    "HINT: You can use [dynamic filter pattern](https://docs.risingwave.com/docs/current/sql-pattern-dynamic-filters/)\n",
    "to create a filter condition based on the latest pickup time.\n",
    "\n",
    "NOTE: For this question `17 hours` was picked to ensure we have enough data to work with.\n",
    "\n",
    "Options:\n",
    "1. Clinton East, Upper East Side North, Penn Station\n",
    "2. LaGuardia Airport, Lincoln Square East, JFK Airport\n",
    "3. Midtown Center, Upper East Side South, Upper East Side North\n",
    "4. LaGuardia Airport, Midtown Center, Upper East Side North"
   ]
  },
  {
   "cell_type": "code",
   "execution_count": null,
   "id": "6840fd8c-4a57-4720-b13a-c5c669811dc4",
   "metadata": {},
   "outputs": [],
   "source": []
  }
 ],
 "metadata": {
  "kernelspec": {
   "display_name": "Python 3 (ipykernel)",
   "language": "python",
   "name": "python3"
  },
  "language_info": {
   "codemirror_mode": {
    "name": "ipython",
    "version": 3
   },
   "file_extension": ".py",
   "mimetype": "text/x-python",
   "name": "python",
   "nbconvert_exporter": "python",
   "pygments_lexer": "ipython3",
   "version": "3.11.7"
  }
 },
 "nbformat": 4,
 "nbformat_minor": 5
}
