{
 "cells": [
  {
   "cell_type": "markdown",
   "id": "ffef9732-2d58-4668-a0d0-c85ee288ac8b",
   "metadata": {},
   "source": [
    "- Name: Isaac Ndirangu Muturi\n",
    "- Email: ndirangumuturi749@gmail.com"
   ]
  },
  {
   "cell_type": "markdown",
   "id": "38ad7daf-babf-446c-9725-781e640d5703",
   "metadata": {},
   "source": [
    "# Homework\n",
    "\n",
    "## Setting up\n",
    "\n",
    "In order to get a static set of results, we will use historical data from the dataset.\n",
    "\n",
    "Run the following commands:\n",
    "```bash\n",
    "# Load the cluster op commands.\n",
    "source commands.sh\n",
    "# First, reset the cluster:\n",
    "clean-cluster\n",
    "# Start a new cluster\n",
    "start-cluster\n",
    "# wait for cluster to start\n",
    "sleep 5\n",
    "# Seed historical data instead of real-time data\n",
    "seed-kafka\n",
    "# Recreate trip data table\n",
    "psql -f risingwave-sql/table/trip_data.sql\n",
    "# Wait for a while for the trip_data table to be populated.\n",
    "sleep 5\n",
    "# Check that you have 100K records in the trip_data table\n",
    "# You may rerun it if the count is not 100K\n",
    "psql -c \"SELECT COUNT(*) FROM trip_data\"\n",
    "```\n"
   ]
  },
  {
   "cell_type": "markdown",
   "id": "dd8b8307-2b7b-4a1e-8813-9ef9c66d11ae",
   "metadata": {},
   "source": [
    "## Question 0\n",
    "\n",
    "_This question is just a warm-up to introduce dynamic filter, please attempt it before viewing its solution._\n",
    "\n",
    "What are the dropoff taxi zones at the latest dropoff times?\n",
    "\n",
    "For this part, we will use the [dynamic filter pattern](https://docs.risingwave.com/docs/current/sql-pattern-dynamic-filters/).\n",
    "\n",
    "<details>\n",
    "<summary>Solution</summary>\n",
    "\n",
    "```sql\n",
    "CREATE MATERIALIZED VIEW latest_dropoff_time AS\n",
    "    WITH t AS (\n",
    "        SELECT MAX(tpep_dropoff_datetime) AS latest_dropoff_time\n",
    "        FROM trip_data\n",
    "    )\n",
    "    SELECT taxi_zone.Zone as taxi_zone, latest_dropoff_time\n",
    "    FROM t,\n",
    "            trip_data\n",
    "    JOIN taxi_zone\n",
    "        ON trip_data.DOLocationID = taxi_zone.location_id\n",
    "    WHERE trip_data.tpep_dropoff_datetime = t.latest_dropoff_time;\n",
    "\n",
    "--    taxi_zone    | latest_dropoff_time\n",
    "-- ----------------+---------------------\n",
    "--  Midtown Center | 2022-01-03 17:24:54\n",
    "-- (1 row)\n",
    "```\n",
    "\n",
    "</details>\n",
    "\n"
   ]
  },
  {
   "cell_type": "markdown",
   "id": "a9ae3ed2-7450-40bc-861c-46d90afc3d34",
   "metadata": {},
   "source": [
    "## Question 1\n",
    "\n",
    "Create a materialized view to compute the average, min and max trip time **between each taxi zone**.\n",
    "\n",
    "Note that we consider the do not consider `a->b` and `b->a` as the same trip pair.\n",
    "So as an example, you would consider the following trip pairs as different pairs:\n",
    "```plaintext\n",
    "Yorkville East -> Steinway\n",
    "Steinway -> Yorkville East\n",
    "```\n",
    "\n",
    "From this MV, find the pair of taxi zones with the highest average trip time.\n",
    "You may need to use the [dynamic filter pattern](https://docs.risingwave.com/docs/current/sql-pattern-dynamic-filters/) for this.\n",
    "\n",
    "Bonus (no marks): Create an MV which can identify anomalies in the data. For example, if the average trip time between two zones is 1 minute,\n",
    "but the max trip time is 10 minutes and 20 minutes respectively.\n",
    "\n",
    "Options:\n",
    "1. Yorkville East, Steinway\n",
    "2. Murray Hill, Midwood\n",
    "3. East Flatbush/Farragut, East Harlem North\n",
    "4. Midtown Center, University Heights/Morris Heights\n",
    "\n",
    "p.s. The trip time between taxi zones does not take symmetricity into account, i.e. `A -> B` and `B -> A` are considered different trips. This applies to subsequent questions as well.\n",
    "\n"
   ]
  },
  {
   "cell_type": "code",
   "execution_count": 13,
   "id": "3c74748a-e96c-4be6-b3bf-a9c13c2e382f",
   "metadata": {},
   "outputs": [
    {
     "name": "stdout",
     "output_type": "stream",
     "text": [
      "CREATE_MATERIALIZED_VIEW\n"
     ]
    }
   ],
   "source": [
    "# -- Create a materialized view to calculate trip statistics between pickup and dropoff locations\n",
    "trip_time_statistics=\"\"\"\n",
    "CREATE MATERIALIZED VIEW trip_time_statistics AS\n",
    "SELECT\n",
    "    taxi_zoneP.zone AS pickup_zone,\n",
    "    taxi_zoneD.zone AS dropoff_zone,\n",
    "    AVG(trip_data.tpep_dropoff_datetime - trip_data.tpep_pickup_datetime) AS avg_triptime,\n",
    "    MIN(trip_data.tpep_dropoff_datetime - trip_data.tpep_pickup_datetime) AS min_triptime,\n",
    "    MAX(trip_data.tpep_dropoff_datetime - trip_data.tpep_pickup_datetime) AS max_triptime\n",
    "FROM \n",
    "    trip_data\n",
    "JOIN \n",
    "    taxi_zone AS taxi_zoneP ON trip_data.pulocationid = taxi_zoneP.location_id\n",
    "JOIN \n",
    "    taxi_zone AS taxi_zoneD ON trip_data.dolocationid = taxi_zoneD.location_id\n",
    "GROUP BY \n",
    "    taxi_zoneP.zone, taxi_zoneD.zone;\n",
    "\"\"\"\n",
    "\n",
    "!psql -h localhost -p 4566 -U root -d dev -c \"{trip_time_statistics}\""
   ]
  },
  {
   "cell_type": "code",
   "execution_count": 14,
   "id": "dc8a0d64-f76d-44c7-93a3-e91524cce3f9",
   "metadata": {},
   "outputs": [
    {
     "name": "stdout",
     "output_type": "stream",
     "text": [
      "  pickup_zone   | dropoff_zone | avg_triptime \n",
      "----------------+--------------+--------------\n",
      " Yorkville East | Steinway     | 23:59:33\n",
      "(1 row)\n",
      "\n"
     ]
    }
   ],
   "source": [
    "# -- Step 2: Find the pair of taxi zones with the highest average trip time\n",
    "max_avg_trip_time_query = \"\"\"\n",
    "SELECT\n",
    "    pickup_zone,\n",
    "    dropoff_zone,\n",
    "    avg_triptime\n",
    "FROM\n",
    "    trip_time_statistics\n",
    "ORDER BY\n",
    "    avg_triptime DESC\n",
    "LIMIT 1\n",
    "\"\"\"\n",
    "\n",
    "!psql -h localhost -p 4566 -U root -d dev -c \"{max_avg_trip_time_query}\"\n"
   ]
  },
  {
   "cell_type": "code",
   "execution_count": null,
   "id": "b79a7687-bdc8-42ba-a211-bfd172f83858",
   "metadata": {},
   "outputs": [],
   "source": [
    "# Answer: Yorkville East, Steinway"
   ]
  },
  {
   "cell_type": "markdown",
   "id": "2b4d5e38-0eb9-4c30-b1ec-8fdc7a35dfe2",
   "metadata": {},
   "source": [
    "## Question 2\n",
    "\n",
    "Recreate the MV(s) in question 1, to also find the **number of trips** for the pair of taxi zones with the highest average trip time.\n",
    "\n",
    "Options:\n",
    "1. 5\n",
    "2. 3\n",
    "3. 10\n",
    "4. 1\n",
    "\n"
   ]
  },
  {
   "cell_type": "code",
   "execution_count": 9,
   "id": "6e49d09d-622e-42a8-8fc3-ac00ac94884d",
   "metadata": {},
   "outputs": [
    {
     "name": "stdout",
     "output_type": "stream",
     "text": [
      "CREATE_MATERIALIZED_VIEW\n"
     ]
    }
   ],
   "source": [
    "# -- Create a materialized view to calculate trip statistics between pickup and dropoff locations\n",
    "trip_time_statistics_with_count=\"\"\"\n",
    "CREATE MATERIALIZED VIEW trip_time_statistics_with_count AS\n",
    "SELECT\n",
    "    taxi_zoneP.zone AS pickup_zone,\n",
    "    taxi_zoneD.zone AS dropoff_zone,\n",
    "    AVG(trip_data.tpep_dropoff_datetime - trip_data.tpep_pickup_datetime) AS avg_triptime,\n",
    "    MIN(trip_data.tpep_dropoff_datetime - trip_data.tpep_pickup_datetime) AS min_triptime,\n",
    "    MAX(trip_data.tpep_dropoff_datetime - trip_data.tpep_pickup_datetime) AS max_triptime,\n",
    "    COUNT(*) AS num_trips \n",
    "FROM \n",
    "    trip_data\n",
    "JOIN \n",
    "    taxi_zone AS taxi_zoneP ON trip_data.pulocationid = taxi_zoneP.location_id\n",
    "JOIN \n",
    "    taxi_zone AS taxi_zoneD ON trip_data.dolocationid = taxi_zoneD.location_id\n",
    "GROUP BY \n",
    "    taxi_zoneP.zone, taxi_zoneD.zone;\n",
    "\"\"\"\n",
    "\n",
    "!psql -h localhost -p 4566 -U root -d dev -c \"{trip_time_statistics_with_count}\""
   ]
  },
  {
   "cell_type": "code",
   "execution_count": 11,
   "id": "95fdbdb5-aacf-4704-8e09-95175963a486",
   "metadata": {},
   "outputs": [
    {
     "name": "stdout",
     "output_type": "stream",
     "text": [
      "  pickup_zone   | dropoff_zone | avg_triptime | num_trips \n",
      "----------------+--------------+--------------+-----------\n",
      " Yorkville East | Steinway     | 23:59:33     |         1\n",
      "(1 row)\n",
      "\n"
     ]
    }
   ],
   "source": [
    "# -- Retrieve records with the maximum average trip time\n",
    "records_with_max_average_triptime=\"\"\"\n",
    "WITH max_average_triptime AS (\n",
    "    SELECT MAX(avg_triptime) AS max_triptime \n",
    "    FROM trip_time_statistics_with_count\n",
    ")\n",
    "SELECT \n",
    "    tswc.pickup_zone, \n",
    "    tswc.dropoff_zone, \n",
    "    tswc.avg_triptime, \n",
    "    tswc.num_trips \n",
    "FROM \n",
    "    max_average_triptime AS mat\n",
    "JOIN \n",
    "    trip_time_statistics_with_count AS tswc ON mat.max_triptime = tswc.avg_triptime;\n",
    "\"\"\"\n",
    "\n",
    "!psql -h localhost -p 4566 -U root -d dev -c \"{records_with_max_average_triptime}\""
   ]
  },
  {
   "cell_type": "code",
   "execution_count": null,
   "id": "439b6748-7d47-4533-acbb-ad6b250dab59",
   "metadata": {},
   "outputs": [],
   "source": [
    "# Answer: 1"
   ]
  },
  {
   "cell_type": "markdown",
   "id": "094591ed-e486-46f0-bff4-074c79ce67c9",
   "metadata": {},
   "source": [
    "## Question 3\n",
    "\n",
    "From the latest pickup time to 17 hours before, what are the top 3 busiest zones in terms of number of pickups?\n",
    "For example if the latest pickup time is 2020-01-01 17:00:00,\n",
    "then the query should return the top 3 busiest zones from 2020-01-01 00:00:00 to 2020-01-01 17:00:00.\n",
    "\n",
    "HINT: You can use [dynamic filter pattern](https://docs.risingwave.com/docs/current/sql-pattern-dynamic-filters/)\n",
    "to create a filter condition based on the latest pickup time.\n",
    "\n",
    "NOTE: For this question `17 hours` was picked to ensure we have enough data to work with.\n",
    "\n",
    "Options:\n",
    "1. Clinton East, Upper East Side North, Penn Station\n",
    "2. LaGuardia Airport, Lincoln Square East, JFK Airport\n",
    "3. Midtown Center, Upper East Side South, Upper East Side North\n",
    "4. LaGuardia Airport, Midtown Center, Upper East Side North"
   ]
  },
  {
   "cell_type": "code",
   "execution_count": 4,
   "id": "e9c60185-b72a-40d2-9ff4-48712a3f518d",
   "metadata": {},
   "outputs": [
    {
     "name": "stdout",
     "output_type": "stream",
     "text": [
      "NOTICE:  The ORDER BY clause in the CREATE MATERIALIZED VIEW statement does not guarantee that the rows selected out of this materialized view is returned in this order.\n",
      "It only indicates the physical clustering of the data, which may improve the performance of queries issued against this materialized view.\n",
      "\n",
      "CREATE_MATERIALIZED_VIEW\n"
     ]
    }
   ],
   "source": [
    "busiest_zones_last_17_hrs=\"\"\"\n",
    "CREATE MATERIALIZED VIEW busiest_zones_last_17_hrs AS\n",
    "WITH location_to_location_counts_last_17_hrs AS (\n",
    "    SELECT\n",
    "        taxi_zone.zone AS pu_zone,\n",
    "        COUNT(*) AS num_trips\n",
    "    FROM\n",
    "        trip_data\n",
    "    JOIN \n",
    "        taxi_zone ON trip_data.pulocationid = taxi_zone.location_id\n",
    "    WHERE \n",
    "        tpep_pickup_datetime >= (SELECT MAX(tpep_pickup_datetime) - INTERVAL '17 hours' FROM trip_data) \n",
    "    GROUP BY \n",
    "        taxi_zone.zone\n",
    ")\n",
    "SELECT * \n",
    "FROM location_to_location_counts_last_17_hrs;\n",
    "\"\"\"\n",
    "\n",
    "!psql -h localhost -p 4566 -U root -d dev -c \"{busiest_zones_last_17_hrs}\""
   ]
  },
  {
   "cell_type": "code",
   "execution_count": 8,
   "id": "6840fd8c-4a57-4720-b13a-c5c669811dc4",
   "metadata": {},
   "outputs": [
    {
     "name": "stdout",
     "output_type": "stream",
     "text": [
      "           pu_zone            | num_trips \n",
      "------------------------------+-----------\n",
      " LaGuardia Airport            |        19\n",
      " JFK Airport                  |        17\n",
      " Lincoln Square East          |        17\n",
      " Penn Station/Madison Sq West |        16\n",
      " Upper East Side North        |        13\n",
      " Times Sq/Theatre District    |        12\n",
      " East Chelsea                 |        11\n",
      " Upper East Side South        |        10\n",
      " Clinton East                 |         9\n",
      " Lenox Hill West              |         8\n",
      "(10 rows)\n",
      "\n"
     ]
    }
   ],
   "source": [
    "# -- Query the materialized view to retrieve the top 3 pickup zones with the highest number of trips\n",
    "!psql -h localhost -p 4566 -U root -d dev -c \"SELECT * FROM  busiest_zones_last_17_hrs ORDER BY num_trips DESC LIMIT 10;\"\n"
   ]
  },
  {
   "cell_type": "code",
   "execution_count": null,
   "id": "ee7d64b2-db6a-4c9a-a5a8-c6627d78a344",
   "metadata": {},
   "outputs": [],
   "source": [
    "# Answer: La Guardia, Lincoln Square East, JFK Airport\n"
   ]
  }
 ],
 "metadata": {
  "kernelspec": {
   "display_name": "Python 3 (ipykernel)",
   "language": "python",
   "name": "python3"
  },
  "language_info": {
   "codemirror_mode": {
    "name": "ipython",
    "version": 3
   },
   "file_extension": ".py",
   "mimetype": "text/x-python",
   "name": "python",
   "nbconvert_exporter": "python",
   "pygments_lexer": "ipython3",
   "version": "3.11.7"
  }
 },
 "nbformat": 4,
 "nbformat_minor": 5
}
